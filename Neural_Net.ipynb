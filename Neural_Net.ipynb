{
 "cells": [
  {
   "cell_type": "code",
   "execution_count": 55,
   "metadata": {},
   "outputs": [],
   "source": [
    "import csv\n",
    "import math\n",
    "import random"
   ]
  },
  {
   "cell_type": "code",
   "execution_count": 56,
   "metadata": {},
   "outputs": [],
   "source": [
    "# Read CSV file without checking for missing values\n",
    "data = []\n",
    "with open(\"data.csv\", newline=\"\") as csvfile:\n",
    "    reader = csv.reader(csvfile)\n",
    "    headers = next(reader)  # Skip the header\n",
    "    for row in reader:\n",
    "        data.append(row)"
   ]
  },
  {
   "cell_type": "code",
   "execution_count": 57,
   "metadata": {},
   "outputs": [],
   "source": [
    "# Convert string data to numerical values (for relevant columns)\n",
    "X = [[float(row[1]), float(row[2]), float(row[3])] for row in data]  # income, age, loan\n",
    "y = [int(row[4]) for row in data]  # class (target)"
   ]
  },
  {
   "cell_type": "code",
   "execution_count": 58,
   "metadata": {},
   "outputs": [],
   "source": [
    "# Manually normalize the data using Min-Max scaling\n",
    "def min_max_scaling(X):\n",
    "    min_vals = [min(col) for col in zip(*X)]\n",
    "    max_vals = [max(col) for col in zip(*X)]\n",
    "\n",
    "    X_scaled = []\n",
    "    for row in X:\n",
    "        scaled_row = [\n",
    "            (row[i] - min_vals[i]) / (max_vals[i] - min_vals[i])\n",
    "            for i in range(len(row))\n",
    "        ]\n",
    "        X_scaled.append(scaled_row)\n",
    "\n",
    "    return X_scaled\n",
    "\n",
    "X_scaled = min_max_scaling(X)"
   ]
  },
  {
   "cell_type": "code",
   "execution_count": 59,
   "metadata": {},
   "outputs": [],
   "source": [
    "# Sigmoid function\n",
    "def sigmoid(z):\n",
    "    return 1 / (1 + math.exp(-z))\n",
    "\n",
    "\n",
    "# Derivative of the sigmoid function\n",
    "def sigmoid_derivative(a):\n",
    "    return a * (1 - a)"
   ]
  },
  {
   "cell_type": "code",
   "execution_count": 60,
   "metadata": {},
   "outputs": [],
   "source": [
    "# Function to initialize random weights without using numpy\n",
    "def random_matrix(rows, cols):\n",
    "    return [[random.random() for _ in range(cols)] for _ in range(rows)]\n",
    "\n",
    "\n",
    "# Initialize weights and biases\n",
    "input_size = len(X_scaled[0])  # 3 input features: income, age, loan\n",
    "hidden_size = 4\n",
    "output_size = 1\n",
    "\n",
    "# Randomly initialize weights and biases\n",
    "W1 = random_matrix(input_size, hidden_size)\n",
    "b1 = [random.random() for _ in range(hidden_size)]\n",
    "W2 = random_matrix(hidden_size, output_size)\n",
    "b2 = [random.random() for _ in range(output_size)]\n"
   ]
  },
  {
   "cell_type": "code",
   "execution_count": 61,
   "metadata": {},
   "outputs": [],
   "source": [
    "# Matrix multiplication function (for dot product)\n",
    "def matrix_multiply(A, B):\n",
    "    return [\n",
    "        [sum(a * b for a, b in zip(A_row, B_col)) for B_col in zip(*B)] for A_row in A\n",
    "    ]\n"
   ]
  },
  {
   "cell_type": "code",
   "execution_count": 62,
   "metadata": {},
   "outputs": [],
   "source": [
    "# Adding bias to a matrix\n",
    "def add_bias(matrix, bias):\n",
    "    return [\n",
    "        [matrix[row][col] + bias[col] for col in range(len(bias))]\n",
    "        for row in range(len(matrix))\n",
    "    ]"
   ]
  },
  {
   "cell_type": "code",
   "execution_count": 63,
   "metadata": {},
   "outputs": [],
   "source": [
    "# Element-wise application of the sigmoid function\n",
    "def apply_sigmoid(matrix):\n",
    "    return [[sigmoid(x) for x in row] for row in matrix]\n"
   ]
  },
  {
   "cell_type": "code",
   "execution_count": 64,
   "metadata": {},
   "outputs": [],
   "source": [
    "# Forward propagation\n",
    "def forward(X, W1, b1, W2, b2):\n",
    "    Z1 = add_bias(matrix_multiply(X, W1), b1)  # Input to hidden layer\n",
    "    A1 = apply_sigmoid(Z1)  # Activation in hidden layer\n",
    "    Z2 = add_bias(matrix_multiply(A1, W2), b2)  # Input to output layer\n",
    "    A2 = apply_sigmoid(Z2)  # Final output (prediction)\n",
    "    return A1, A2"
   ]
  },
  {
   "cell_type": "code",
   "execution_count": 65,
   "metadata": {},
   "outputs": [],
   "source": [
    "# Backpropagation (for one epoch)\n",
    "def backprop(X, y, W1, b1, W2, b2, A1, A2, learning_rate=0.1):\n",
    "    m = len(y)\n",
    "\n",
    "    dZ2 = [[A2[i][0] - y[i]] for i in range(m)]  # Derivative of loss w.r.t output\n",
    "    dW2 = [\n",
    "        [sum(A1[i][h] * dZ2[i][0] for i in range(m)) / m for _ in range(output_size)]\n",
    "        for h in range(hidden_size)\n",
    "    ]\n",
    "    db2 = [sum(dZ2[i][0] for i in range(m)) / m]\n",
    "\n",
    "    dA1 = [\n",
    "        [\n",
    "            sum(W2[h][o] * dZ2[i][0] for o in range(output_size))\n",
    "            for h in range(hidden_size)\n",
    "        ]\n",
    "        for i in range(m)\n",
    "    ]\n",
    "    dZ1 = [\n",
    "        [dA1[i][h] * sigmoid_derivative(A1[i][h]) for h in range(hidden_size)]\n",
    "        for i in range(m)\n",
    "    ]\n",
    "    dW1 = [\n",
    "        [sum(X[i][f] * dZ1[i][h] for i in range(m)) / m for h in range(hidden_size)]\n",
    "        for f in range(input_size)\n",
    "    ]\n",
    "    db1 = [sum(dZ1[i][h] for i in range(m)) / m for h in range(hidden_size)]\n",
    "\n",
    "    # Update weights and biases using gradient descent\n",
    "    W1 = [\n",
    "        [W1[f][h] - learning_rate * dW1[f][h] for h in range(hidden_size)]\n",
    "        for f in range(input_size)\n",
    "    ]\n",
    "    b1 = [b1[h] - learning_rate * db1[h] for h in range(hidden_size)]\n",
    "    W2 = [\n",
    "        [W2[h][o] - learning_rate * dW2[h][o] for o in range(output_size)]\n",
    "        for h in range(hidden_size)\n",
    "    ]\n",
    "    b2 = [b2[o] - learning_rate * db2[o] for o in range(output_size)]\n",
    "\n",
    "    return W1, b1, W2, b2\n"
   ]
  },
  {
   "cell_type": "code",
   "execution_count": 66,
   "metadata": {},
   "outputs": [
    {
     "name": "stdout",
     "output_type": "stream",
     "text": [
      "Epoch 0, Loss: 1.713033187895721\n",
      "Epoch 1000, Loss: 0.4067385835527558\n",
      "Epoch 2000, Loss: 0.40263933545769903\n",
      "Epoch 3000, Loss: 0.38692309037685174\n",
      "Epoch 4000, Loss: 0.33987849860798997\n",
      "Epoch 5000, Loss: 0.2869298267172762\n",
      "Epoch 6000, Loss: 0.2415880308900153\n",
      "Epoch 7000, Loss: 0.20688469110391744\n",
      "Epoch 8000, Loss: 0.18259019061648743\n",
      "Epoch 9000, Loss: 0.16596908293791449\n"
     ]
    }
   ],
   "source": [
    "# Training loop\n",
    "for epoch in range(10000):  # Number of epochs\n",
    "    A1, A2 = forward(X_scaled, W1, b1, W2, b2)\n",
    "    W1, b1, W2, b2 = backprop(X_scaled, y, W1, b1, W2, b2, A1, A2)\n",
    "\n",
    "    # Optional: Calculate loss for monitoring\n",
    "    if epoch % 1000 == 0:\n",
    "        loss = sum(\n",
    "            -y[i] * math.log(A2[i][0]) - (1 - y[i]) * math.log(1 - A2[i][0])\n",
    "            for i in range(len(y))\n",
    "        ) / len(y)\n",
    "        print(f\"Epoch {epoch}, Loss: {loss}\")"
   ]
  },
  {
   "cell_type": "code",
   "execution_count": 70,
   "metadata": {},
   "outputs": [],
   "source": [
    "# Save the weights and biases after training\n",
    "def save_weights_biases(W, b, W_file, b_file):\n",
    "    with open(W_file, \"w\") as f_w, open(b_file, \"w\") as f_b:\n",
    "        for row in W:\n",
    "            f_w.write(\",\".join(map(str, row)) + \"\\n\")\n",
    "        f_b.write(\",\".join(map(str, b)) + \"\\n\")\n",
    "\n",
    "\n",
    "save_weights_biases(W1, b1, \"model_weights/W1.csv\", \"model_weights/b1.csv\")\n",
    "save_weights_biases(W2, b2, \"model_weights/W2.csv\", \"model_weights/b2.csv\")\n"
   ]
  }
 ],
 "metadata": {
  "kernelspec": {
   "display_name": "base",
   "language": "python",
   "name": "python3"
  },
  "language_info": {
   "codemirror_mode": {
    "name": "ipython",
    "version": 3
   },
   "file_extension": ".py",
   "mimetype": "text/x-python",
   "name": "python",
   "nbconvert_exporter": "python",
   "pygments_lexer": "ipython3",
   "version": "3.11.7"
  }
 },
 "nbformat": 4,
 "nbformat_minor": 2
}
